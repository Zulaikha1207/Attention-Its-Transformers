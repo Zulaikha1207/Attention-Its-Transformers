{
 "cells": [
  {
   "cell_type": "markdown",
   "metadata": {},
   "source": [
    "breaks the inflection/modification of the word. Example \"amazing\", \"amazingly\", is\n",
    "broken into \"amaze\""
   ]
  },
  {
   "cell_type": "code",
   "execution_count": 1,
   "metadata": {},
   "outputs": [],
   "source": [
    "from nltk.stem import PorterStemmer, LancasterStemmer"
   ]
  },
  {
   "cell_type": "code",
   "execution_count": 3,
   "metadata": {},
   "outputs": [],
   "source": [
    "words_to_stem = ['happy', 'happiest', 'happier', 'cactus', 'cactii', 'elephant', 'elephants', 'amazed', 'amazing', 'amazingly', 'cement', 'owed', 'maximum']\n"
   ]
  },
  {
   "cell_type": "code",
   "execution_count": 2,
   "metadata": {},
   "outputs": [],
   "source": [
    "porter = PorterStemmer()\n",
    "lancaster = LancasterStemmer()"
   ]
  },
  {
   "cell_type": "code",
   "execution_count": 4,
   "metadata": {},
   "outputs": [],
   "source": [
    "stemmed = [(porter.stem(word), lancaster.stem(word)) for word in words_to_stem]"
   ]
  },
  {
   "cell_type": "code",
   "execution_count": 5,
   "metadata": {},
   "outputs": [
    {
     "data": {
      "text/plain": [
       "[('happi', 'happy'),\n",
       " ('happiest', 'happiest'),\n",
       " ('happier', 'happy'),\n",
       " ('cactu', 'cact'),\n",
       " ('cactii', 'cacti'),\n",
       " ('eleph', 'eleph'),\n",
       " ('eleph', 'eleph'),\n",
       " ('amaz', 'amaz'),\n",
       " ('amaz', 'amaz'),\n",
       " ('amazingli', 'amaz'),\n",
       " ('cement', 'cem'),\n",
       " ('owe', 'ow'),\n",
       " ('maximum', 'maxim')]"
      ]
     },
     "execution_count": 5,
     "metadata": {},
     "output_type": "execute_result"
    }
   ],
   "source": [
    "stemmed"
   ]
  },
  {
   "cell_type": "markdown",
   "metadata": {},
   "source": [
    "The Porter stemmer is a set of rules that strip common suffixes from the ends of words, each of these rules are applied on after the other and produce our Porter stemmed words. It is a simple stemmer, and very fast.\n",
    "\n",
    "The Lancaster stemmer contains a larger set of rules and rather than applying each rule one after the other will keep iterating through the list of rules and find a rule that matches the current condition, which will then delete or replace the ending of the word. The iterations will stop once no more rules can be applied to the word OR if the word starts with a vowel and only two characters remain OR if the word starts with a consonant and there are three characters remaining. The Lancaster stemmer is much more aggressive in its stemming, sometimes this is a good thing, sometimes not.\n",
    "\n",
    "We can see from the results of the two stemmers above that neither are perfect, and this is the case with all stemming algorithms."
   ]
  },
  {
   "cell_type": "markdown",
   "metadata": {},
   "source": []
  }
 ],
 "metadata": {
  "kernelspec": {
   "display_name": "Python 3.9.15 ('ml')",
   "language": "python",
   "name": "python3"
  },
  "language_info": {
   "codemirror_mode": {
    "name": "ipython",
    "version": 3
   },
   "file_extension": ".py",
   "mimetype": "text/x-python",
   "name": "python",
   "nbconvert_exporter": "python",
   "pygments_lexer": "ipython3",
   "version": "3.9.15"
  },
  "orig_nbformat": 4,
  "vscode": {
   "interpreter": {
    "hash": "31d7989649452b8ff5b252a3e34caf45e4ffd8a5787fe28fc2ce0245f11b7782"
   }
  }
 },
 "nbformat": 4,
 "nbformat_minor": 2
}
