{
 "cells": [
  {
   "cell_type": "markdown",
   "id": "e733cd4a",
   "metadata": {},
   "source": [
    "### Long text sentimental analysis\n",
    "\n",
    "- BERT is restricted in terms of the length of text you can feed it for analysis. It does not support texts with length > 512! \n",
    "- How to analyse longer paragraphs or articles? With some articles finding the sentiment is unclear by assessing just the first 512 words. So, there should be a way to account for larger inputs\n",
    "- Two ways to solve this problem. (1) Neural text summarization to shorten the text sucj that length is < 512 or (2) Windowing method\n",
    "- Use windowing method. Window text into 512 chunks > calculate sentiment on each chunk > average the sentiment across the chunks > final sentiment\n"
   ]
  },
  {
   "cell_type": "markdown",
   "id": "9c492424",
   "metadata": {},
   "source": [
    "#### Import model and define sentiment analysis function (check project1)"
   ]
  },
  {
   "cell_type": "code",
   "execution_count": 2,
   "id": "712f1bb7",
   "metadata": {},
   "outputs": [],
   "source": [
    "from transformers import BertForSequenceClassification, BertTokenizer\n",
    "import torch\n",
    "\n",
    "# initialise model and tokenizer\n",
    "tokenizer = BertTokenizer.from_pretrained('ProsusAI/finbert')\n",
    "model = BertForSequenceClassification.from_pretrained('ProsusAI/finbert')\n",
    "\n",
    "# function for processing input text\n",
    "def sentiment(tokens):\n",
    "    # get output logits from model\n",
    "    output = model(**tokens)\n",
    "    # convert to probablities\n",
    "    probs = torch.nn.functional.softmax(output[0], dim=-1)\n",
    "    return probs"
   ]
  },
  {
   "cell_type": "code",
   "execution_count": 3,
   "id": "9e924186",
   "metadata": {},
   "outputs": [],
   "source": [
    "txt = \"\"\"\n",
    "I would like to get your all  thoughts on the bond yield increase this week.  I am not worried about the market downturn but the sudden increase in yields. On 2/16 the 10 year bonds yields increased by almost  9 percent and on 2/19 the yield increased by almost 5 percent.\n",
    "\n",
    "Key Points from the CNBC Article:\n",
    "\n",
    "* **The “taper tantrum” in 2013 was a sudden spike in Treasury yields due to market panic after the Federal Reserve announced that it would begin tapering its quantitative easing program.**\n",
    "* **Major central banks around the world have cut interest rates to historic lows and launched unprecedented quantities of asset purchases in a bid to shore up the economy throughout the pandemic.**\n",
    "* **However, the recent rise in yields suggests that some investors are starting to anticipate a tightening of policy sooner than anticipated to accommodate a potential rise in inflation.**\n",
    "\n",
    "The recent rise in bond yields and U.S. inflation expectations has some investors wary that a repeat of the 2013 “taper tantrum” could be on the horizon.\n",
    "\n",
    "The benchmark U.S. 10-year Treasury note climbed above 1.3% for the first time since February 2020 earlier this week, while the 30-year bond also hit its highest level for a year. Yields move inversely to bond prices.\n",
    "\n",
    "Yields tend to rise in lockstep with inflation expectations, which have reached their highest levels in a decade in the U.S., powered by increased prospects of a large fiscal stimulus package, progress on vaccine rollouts and pent-up consumer demand.\n",
    "\n",
    "The “taper tantrum” in 2013 was a sudden spike in Treasury yields due to market panic after the Federal Reserve announced that it would begin tapering its quantitative easing program.\n",
    "\n",
    "Major central banks around the world have cut interest rates to historic lows and launched unprecedented quantities of asset purchases in a bid to shore up the economy throughout the pandemic. The Fed and others have maintained supportive tones in recent policy meetings, vowing to keep financial conditions loose as the global economy looks to emerge from the Covid-19 pandemic.\n",
    "\n",
    "However, the recent rise in yields suggests that some investors are starting to anticipate a tightening of policy sooner than anticipated to accommodate a potential rise in inflation.\n",
    "\n",
    "With central bank support removed, bonds usually fall in price which sends yields higher. This can also spill over into stock markets as higher interest rates means more debt servicing for firms, causing traders to reassess the investing environment.\n",
    "\n",
    "“The supportive stance from policymakers will likely remain in place until the vaccines have paved a way to some return to normality,” said Shane Balkham, chief investment officer at Beaufort Investment, in a research note this week.\n",
    "\n",
    "“However, there will be a risk of another ‘taper tantrum’ similar to the one we witnessed in 2013, and this is our main focus for 2021,” Balkham projected, should policymakers begin to unwind this stimulus.\n",
    "\n",
    "Long-term bond yields in Japan and Europe followed U.S. Treasurys higher toward the end of the week as bondholders shifted their portfolios.\n",
    "\n",
    "“The fear is that these assets are priced to perfection when the ECB and Fed might eventually taper,” said Sebastien Galy, senior macro strategist at Nordea Asset Management, in a research note entitled “Little taper tantrum.”\n",
    "\n",
    "“The odds of tapering are helped in the United States by better retail sales after four months of disappointment and the expectation of large issuance from the $1.9 trillion fiscal package.”\n",
    "\n",
    "Galy suggested the Fed would likely extend the duration on its asset purchases, moderating the upward momentum in inflation.\n",
    "\n",
    "“Equity markets have reacted negatively to higher yield as it offers an alternative to the dividend yield and a higher discount to long-term cash flows, making them focus more on medium-term growth such as cyclicals” he said. Cyclicals are stocks whose performance tends to align with economic cycles.\n",
    "\n",
    "Galy expects this process to be more marked in the second half of the year when economic growth picks up, increasing the potential for tapering.\n",
    "\n",
    "## Tapering in the U.S., but not Europe\n",
    "\n",
    "Allianz CEO Oliver Bäte told CNBC on Friday that there was a geographical divergence in how the German insurer is thinking about the prospect of interest rate hikes.\n",
    "\n",
    "“One is Europe, where we continue to have financial repression, where the ECB continues to buy up to the max in order to minimize spreads between the north and the south — the strong balance sheets and the weak ones — and at some point somebody will have to pay the price for that, but in the short term I don’t see any spike in interest rates,” Bäte said, adding that the situation is different stateside.\n",
    "\n",
    "“Because of the massive programs that have happened, the stimulus that is happening, the dollar being the world’s reserve currency, there is clearly a trend to stoke inflation and it is going to come. Again, I don’t know when and how, but the interest rates have been steepening and they should be steepening further.”\n",
    "\n",
    "## Rising yields a ‘normal feature’\n",
    "\n",
    "However, not all analysts are convinced that the rise in bond yields is material for markets. In a note Friday, Barclays Head of European Equity Strategy Emmanuel Cau suggested that rising bond yields were overdue, as they had been lagging the improving macroeconomic outlook for the second half of 2021, and said they were a “normal feature” of economic recovery.\n",
    "\n",
    "“With the key drivers of inflation pointing up, the prospect of even more fiscal stimulus in the U.S. and pent up demand propelled by high excess savings, it seems right for bond yields to catch-up with other more advanced reflation trades,” Cau said, adding that central banks remain “firmly on hold” given the balance of risks.\n",
    "\n",
    "He argued that the steepening yield curve is “typical at the early stages of the cycle,” and that so long as vaccine rollouts are successful, growth continues to tick upward and central banks remain cautious, reflationary moves across asset classes look “justified” and equities should be able to withstand higher rates.\n",
    "\n",
    "“Of course, after the strong move of the last few weeks, equities could mark a pause as many sectors that have rallied with yields look overbought, like commodities and banks,” Cau said.\n",
    "\n",
    "“But at this stage, we think rising yields are more a confirmation of the equity bull market than a threat, so dips should continue to be bought.”\n",
    "\"\"\"\n"
   ]
  },
  {
   "cell_type": "code",
   "execution_count": 4,
   "id": "bfdfd226",
   "metadata": {},
   "outputs": [
    {
     "name": "stderr",
     "output_type": "stream",
     "text": [
      "Keyword arguments {'special_tokens': False} not recognized.\n",
      "Token indices sequence length is longer than the specified maximum sequence length for this model (1347 > 512). Running this sequence through the model will result in indexing errors\n"
     ]
    },
    {
     "data": {
      "text/plain": [
       "1347"
      ]
     },
     "execution_count": 4,
     "metadata": {},
     "output_type": "execute_result"
    }
   ],
   "source": [
    "tokens = tokenizer.encode_plus(txt, special_tokens=False)\n",
    "len(tokens['input_ids'])"
   ]
  },
  {
   "cell_type": "markdown",
   "id": "bc008681",
   "metadata": {},
   "source": [
    "### Window Method\n",
    "\n",
    "BERT cannot take texts with length > 512. So we split this text into chunks of 512 tokens at a time, and calculate our sentiment probabilities for each chunk seperately.\n",
    "\n",
    "Because we are taking this slightly different approach, we have encoded our tokens using a different set of parameters to what we have used before. This time, we:\n",
    "\n",
    "- Avoided adding special tokens add_special_tokens=False because this will add [CLS] and [SEP] tokens to the start and end of the full tokenized tensor of length 1345, we will instead add them manually later.\n",
    "\n",
    "- We will not specify max_length, truncation, or padding parameters (as we do not use any of them here).\n",
    "\n",
    "- We will return standard Python lists rather than tensors by not specifying return_tensors (it will return lists by default). This will make the following logic steps easier to follow - but we will rewrite them using PyTorch code in the next section."
   ]
  },
  {
   "cell_type": "code",
   "execution_count": 5,
   "id": "9e563d4a",
   "metadata": {},
   "outputs": [],
   "source": [
    "input_ids = tokens['input_ids']\n",
    "attention_mask = tokens['attention_mask']"
   ]
  },
  {
   "cell_type": "code",
   "execution_count": 7,
   "id": "a0b64853",
   "metadata": {},
   "outputs": [
    {
     "name": "stdout",
     "output_type": "stream",
     "text": [
      "start=0\n",
      "end=512\n",
      "start=512\n",
      "end=1024\n",
      "start=1024\n",
      "end=1347\n"
     ]
    }
   ],
   "source": [
    "start = 0\n",
    "window_size = 512\n",
    "\n",
    "total_len = len(input_ids)\n",
    "\n",
    "loop = True\n",
    "\n",
    "while loop:\n",
    "    end = start + window_size\n",
    "    if end >= total_len:\n",
    "        loop = False\n",
    "        end = total_len\n",
    "    print(f\"{start=}\\n{end=}\")\n",
    "    start = end"
   ]
  },
  {
   "cell_type": "markdown",
   "id": "3d03c4a8",
   "metadata": {},
   "source": [
    "This logic works for shifting our window across the full length of input IDs, so now we can modify it to iterately predict sentiment for each window. There will be a few added steps for us to get this to work:\n",
    "\n",
    "- Extract the window from input_ids and attention_mask.\n",
    "\n",
    "- Add the start of sequence token [CLS]/101 and seperator token [SEP]/102.\n",
    "\n",
    "- Add padding (only applicable to final batch).\n",
    "\n",
    "- Format into dictionary containing PyTorch tensors.\n",
    "\n",
    "- Make logits predictions with the model.\n",
    "\n",
    "- Calculate softmax and append softmax vector to a list probs_list."
   ]
  },
  {
   "cell_type": "code",
   "execution_count": 9,
   "id": "ec333548",
   "metadata": {},
   "outputs": [
    {
     "name": "stdout",
     "output_type": "stream",
     "text": [
      "start=0\n",
      "end=510\n",
      "start=510\n",
      "end=1020\n",
      "start=1020\n",
      "end=1347\n"
     ]
    }
   ],
   "source": [
    "probs_list = []\n",
    "\n",
    "start = 0\n",
    "window_size = 510\n",
    "\n",
    "total_len = len(input_ids)\n",
    "\n",
    "loop = True\n",
    "\n",
    "while loop:\n",
    "    end = start + window_size\n",
    "    if end >= total_len:\n",
    "        loop = False\n",
    "        end = total_len\n",
    "        \n",
    "    # extract input ids and attenion mask\n",
    "    input_ids_chunk = input_ids[start:end]\n",
    "    attention_mask_chunk = attention_mask[start:end]\n",
    "    # add [CLS] and [SEP]\n",
    "    input_ids_chunk = [101] + input_ids_chunk + [102]\n",
    "    attention_mask_chunk = [1] + attention_mask_chunk + [1]\n",
    "    # add padding upto window_size + 2 to get 512 tokens\n",
    "    input_ids_chunk += [0] * (window_size - len(input_ids_chunk) + 2)\n",
    "    attention_mask_chunk += [0] * (window_size - len(attention_mask_chunk) + 2)\n",
    "    # format into pytorch tensors dictionary\n",
    "    input_dict = {\n",
    "        'input_ids': torch.Tensor([input_ids_chunk]).long(),\n",
    "        'attention_mask': torch.Tensor([attention_mask_chunk]).int()\n",
    "    }\n",
    "    # make logits predictions\n",
    "    probs_list.append(sentiment(input_dict))\n",
    "    \n",
    "    print(f\"{start=}\\n{end=}\")\n",
    "    start = end"
   ]
  },
  {
   "cell_type": "code",
   "execution_count": 10,
   "id": "750dc271",
   "metadata": {},
   "outputs": [
    {
     "data": {
      "text/plain": [
       "[tensor([[0.1272, 0.8334, 0.0394]], grad_fn=<SoftmaxBackward0>),\n",
       " tensor([[0.3841, 0.5079, 0.1080]], grad_fn=<SoftmaxBackward0>),\n",
       " tensor([[0.7310, 0.2039, 0.0652]], grad_fn=<SoftmaxBackward0>)]"
      ]
     },
     "execution_count": 10,
     "metadata": {},
     "output_type": "execute_result"
    }
   ],
   "source": [
    "probs_list"
   ]
  },
  {
   "cell_type": "markdown",
   "id": "74b03f3d",
   "metadata": {},
   "source": [
    "Each section has been assign varying levels of sentiment. The first and section sections both score negatively (index 1) and the final sections scores positively (index 0). To calculate the average sentiment across the full text, we will merge these tensors using the stack method:"
   ]
  },
  {
   "cell_type": "code",
   "execution_count": 13,
   "id": "51d02a28",
   "metadata": {},
   "outputs": [
    {
     "data": {
      "text/plain": [
       "tensor([[[0.1272, 0.8334, 0.0394]],\n",
       "\n",
       "        [[0.3841, 0.5079, 0.1080]],\n",
       "\n",
       "        [[0.7310, 0.2039, 0.0652]]], grad_fn=<StackBackward0>)"
      ]
     },
     "execution_count": 13,
     "metadata": {},
     "output_type": "execute_result"
    }
   ],
   "source": [
    "stacks = torch.stack(probs_list)\n",
    "stacks"
   ]
  },
  {
   "cell_type": "markdown",
   "id": "55fb8c42",
   "metadata": {},
   "source": [
    "From here we will calculate the mean score of each column (positive, negative, and neutral sentiment respectively) using mean(dim=0). But before we do that we must reshape our tensor into a 3x3 shape - it is currently a 3x1x3:"
   ]
  },
  {
   "cell_type": "code",
   "execution_count": 15,
   "id": "470fd5c6",
   "metadata": {},
   "outputs": [
    {
     "data": {
      "text/plain": [
       "torch.Size([3, 1, 3])"
      ]
     },
     "execution_count": 15,
     "metadata": {},
     "output_type": "execute_result"
    }
   ],
   "source": [
    "shape = stacks.shape\n",
    "shape"
   ]
  },
  {
   "cell_type": "markdown",
   "id": "9e2eab13",
   "metadata": {},
   "source": [
    "We can reshape our tensor dimensions using the resize_ method, and use dimensions 0 and 2 of our current tensor shape:"
   ]
  },
  {
   "cell_type": "code",
   "execution_count": 17,
   "id": "ae9c61df",
   "metadata": {},
   "outputs": [
    {
     "ename": "RuntimeError",
     "evalue": "cannot resize variables that require grad",
     "output_type": "error",
     "traceback": [
      "\u001b[0;31m---------------------------------------------------------------------------\u001b[0m",
      "\u001b[0;31mRuntimeError\u001b[0m                              Traceback (most recent call last)",
      "Cell \u001b[0;32mIn[17], line 1\u001b[0m\n\u001b[0;32m----> 1\u001b[0m \u001b[43mstacks\u001b[49m\u001b[38;5;241;43m.\u001b[39;49m\u001b[43mresize_\u001b[49m\u001b[43m(\u001b[49m\u001b[43mshape\u001b[49m\u001b[43m[\u001b[49m\u001b[38;5;241;43m0\u001b[39;49m\u001b[43m]\u001b[49m\u001b[43m,\u001b[49m\u001b[43m \u001b[49m\u001b[43mshape\u001b[49m\u001b[43m[\u001b[49m\u001b[38;5;241;43m2\u001b[39;49m\u001b[43m]\u001b[49m\u001b[43m)\u001b[49m\n",
      "\u001b[0;31mRuntimeError\u001b[0m: cannot resize variables that require grad"
     ]
    }
   ],
   "source": [
    "stacks.resize_(shape[0], shape[2])"
   ]
  },
  {
   "cell_type": "markdown",
   "id": "e53e1427",
   "metadata": {},
   "source": [
    "When we try to resize our tensor, we will receive this RuntimeError telling us that we cannot resize variables that require grad. What this is referring to is the gradient updates of our model tensors during training. PyTorch cannot calculate gradients for tensors that have been reshaped. Fortunately, we don't actually want to use this tensor during any training, so we can use the torch.no_grad() namespace to tell PyTorch that we do not want to calculate any gradients."
   ]
  },
  {
   "cell_type": "code",
   "execution_count": 18,
   "id": "e978d14b",
   "metadata": {},
   "outputs": [
    {
     "data": {
      "text/plain": [
       "tensor([0.4141, 0.5151, 0.0709])"
      ]
     },
     "execution_count": 18,
     "metadata": {},
     "output_type": "execute_result"
    }
   ],
   "source": [
    "with torch.no_grad():\n",
    "    # we must include our stacks operation in here too\n",
    "    stacks = torch.stack(probs_list)\n",
    "    # now resize\n",
    "    stacks = stacks.resize_(stacks.shape[0], stacks.shape[2])\n",
    "    # finally, we can calculate the mean value for each sentiment class\n",
    "    mean = stacks.mean(dim=0)\n",
    "    \n",
    "mean"
   ]
  },
  {
   "cell_type": "markdown",
   "id": "0ea281a1",
   "metadata": {},
   "source": [
    "Our final sentiment prediction shows a reasonable balanced sentiment of both positive and negative classes, with a slightly stronger negative sentiment score overall. We can take the argmax too to specify our winning class."
   ]
  },
  {
   "cell_type": "code",
   "execution_count": 20,
   "id": "81050175",
   "metadata": {},
   "outputs": [
    {
     "data": {
      "text/plain": [
       "1"
      ]
     },
     "execution_count": 20,
     "metadata": {},
     "output_type": "execute_result"
    }
   ],
   "source": [
    "torch.argmax(mean).item()"
   ]
  }
 ],
 "metadata": {
  "kernelspec": {
   "display_name": "nlp_course",
   "language": "python",
   "name": "nlp_course"
  },
  "language_info": {
   "codemirror_mode": {
    "name": "ipython",
    "version": 3
   },
   "file_extension": ".py",
   "mimetype": "text/x-python",
   "name": "python",
   "nbconvert_exporter": "python",
   "pygments_lexer": "ipython3",
   "version": "3.10.9"
  }
 },
 "nbformat": 4,
 "nbformat_minor": 5
}
