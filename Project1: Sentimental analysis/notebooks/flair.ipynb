{
 "cells": [
  {
   "cell_type": "markdown",
   "id": "83555ea7",
   "metadata": {},
   "source": [
    "## Sentimental analysis with flair\n",
    "\n",
    "- Initialise pre-built flair model\n",
    "- Tokenization\n",
    "- Process the token through model\n",
    "- Format the outputs"
   ]
  },
  {
   "cell_type": "code",
   "execution_count": 4,
   "id": "c37de26e",
   "metadata": {},
   "outputs": [],
   "source": [
    "import flair"
   ]
  },
  {
   "cell_type": "markdown",
   "id": "cd478f20",
   "metadata": {},
   "source": [
    "### Initialise pre-built flair text classification model "
   ]
  },
  {
   "cell_type": "code",
   "execution_count": 6,
   "id": "6ac26214",
   "metadata": {},
   "outputs": [
    {
     "name": "stdout",
     "output_type": "stream",
     "text": [
      "2023-04-11 12:15:58,125 https://nlp.informatik.hu-berlin.de/resources/models/sentiment-curated-distilbert/sentiment-en-mix-distillbert_4.pt not found in cache, downloading to /var/folders/lx/m3fc9q_96bq7m1wyg7w6s1pc0000gn/T/tmpgz6shhho\n"
     ]
    },
    {
     "name": "stderr",
     "output_type": "stream",
     "text": [
      "100%|███████████████████████████████████████████████████████████████████████████████████████████████████████████| 253M/253M [01:45<00:00, 2.51MB/s]"
     ]
    },
    {
     "name": "stdout",
     "output_type": "stream",
     "text": [
      "2023-04-11 12:17:44,016 copying /var/folders/lx/m3fc9q_96bq7m1wyg7w6s1pc0000gn/T/tmpgz6shhho to cache at /Users/zulikahlatief/.flair/models/sentiment-en-mix-distillbert_4.pt\n"
     ]
    },
    {
     "name": "stderr",
     "output_type": "stream",
     "text": [
      "\n"
     ]
    },
    {
     "name": "stdout",
     "output_type": "stream",
     "text": [
      "2023-04-11 12:17:44,121 removing temp file /var/folders/lx/m3fc9q_96bq7m1wyg7w6s1pc0000gn/T/tmpgz6shhho\n"
     ]
    },
    {
     "name": "stderr",
     "output_type": "stream",
     "text": [
      "Downloading (…)okenizer_config.json: 100%|██████████████████████████████████████████████████████████████████████| 28.0/28.0 [00:00<00:00, 6.28kB/s]\n",
      "Downloading (…)lve/main/config.json: 100%|████████████████████████████████████████████████████████████████████████| 483/483 [00:00<00:00, 92.7kB/s]\n",
      "Downloading (…)solve/main/vocab.txt: 100%|██████████████████████████████████████████████████████████████████████| 232k/232k [00:00<00:00, 1.11MB/s]\n",
      "Downloading (…)/main/tokenizer.json: 100%|██████████████████████████████████████████████████████████████████████| 466k/466k [00:00<00:00, 2.42MB/s]\n"
     ]
    }
   ],
   "source": [
    "model = flair.models.TextClassifier.load('en-sentiment')"
   ]
  },
  {
   "cell_type": "markdown",
   "id": "d705c9a2",
   "metadata": {},
   "source": [
    "### Tokenization"
   ]
  },
  {
   "cell_type": "code",
   "execution_count": 8,
   "id": "e202c7d7",
   "metadata": {},
   "outputs": [
    {
     "data": {
      "text/plain": [
       "Sentence[4]: \"I like you!\""
      ]
     },
     "execution_count": 8,
     "metadata": {},
     "output_type": "execute_result"
    }
   ],
   "source": [
    "text = 'I like you!'\n",
    "\n",
    "sentence = flair.data.Sentence(text)\n",
    "\n",
    "#outputs the number of tokens in the text\n",
    "sentence"
   ]
  },
  {
   "cell_type": "code",
   "execution_count": 12,
   "id": "5e2c6cc8",
   "metadata": {},
   "outputs": [
    {
     "data": {
      "text/plain": [
       "Sentence[10]: \"I feel uneasy when I don't learn more ML\""
      ]
     },
     "execution_count": 12,
     "metadata": {},
     "output_type": "execute_result"
    }
   ],
   "source": [
    "text1 = 'I feel uneasy when I don\\'t learn more ML'\n",
    "\n",
    "sentence = flair.data.Sentence(text1)\n",
    "\n",
    "#outputs the number of tokens in the text\n",
    "sentence"
   ]
  },
  {
   "cell_type": "markdown",
   "id": "a7cfc369",
   "metadata": {},
   "source": [
    "### Make predictions using the flair model"
   ]
  },
  {
   "cell_type": "code",
   "execution_count": 13,
   "id": "03141893",
   "metadata": {},
   "outputs": [],
   "source": [
    "model.predict(sentence)"
   ]
  },
  {
   "cell_type": "code",
   "execution_count": 14,
   "id": "e860a080",
   "metadata": {},
   "outputs": [
    {
     "data": {
      "text/plain": [
       "Sentence[10]: \"I feel uneasy when I don't learn more ML\" → NEGATIVE (0.968)"
      ]
     },
     "execution_count": 14,
     "metadata": {},
     "output_type": "execute_result"
    }
   ],
   "source": [
    "# sentence holds the output of the classifier\n",
    "sentence"
   ]
  },
  {
   "cell_type": "markdown",
   "id": "b9c90acc",
   "metadata": {},
   "source": [
    "### Format the output classes"
   ]
  },
  {
   "cell_type": "code",
   "execution_count": 18,
   "id": "5ab266d7",
   "metadata": {},
   "outputs": [
    {
     "data": {
      "text/plain": [
       "0.9679953455924988"
      ]
     },
     "execution_count": 18,
     "metadata": {},
     "output_type": "execute_result"
    }
   ],
   "source": [
    "#get output label probability\n",
    "sentence.get_labels()[0].score"
   ]
  },
  {
   "cell_type": "code",
   "execution_count": 19,
   "id": "e4b09aee",
   "metadata": {},
   "outputs": [
    {
     "data": {
      "text/plain": [
       "'NEGATIVE'"
      ]
     },
     "execution_count": 19,
     "metadata": {},
     "output_type": "execute_result"
    }
   ],
   "source": [
    "#get output label class\n",
    "sentence.get_labels()[0].value"
   ]
  },
  {
   "cell_type": "code",
   "execution_count": 20,
   "id": "083363a5",
   "metadata": {},
   "outputs": [
    {
     "data": {
      "text/plain": [
       "str"
      ]
     },
     "execution_count": 20,
     "metadata": {},
     "output_type": "execute_result"
    }
   ],
   "source": [
    "#get output label class type\n",
    "type(sentence.get_labels()[0].value)"
   ]
  },
  {
   "cell_type": "code",
   "execution_count": 21,
   "id": "46545dc8",
   "metadata": {},
   "outputs": [
    {
     "data": {
      "text/plain": [
       "float"
      ]
     },
     "execution_count": 21,
     "metadata": {},
     "output_type": "execute_result"
    }
   ],
   "source": [
    "#get output label output  type\n",
    "type(sentence.get_labels()[0].score)"
   ]
  }
 ],
 "metadata": {
  "kernelspec": {
   "display_name": "Python 3.9.6 64-bit",
   "language": "python",
   "name": "python3"
  },
  "language_info": {
   "codemirror_mode": {
    "name": "ipython",
    "version": 3
   },
   "file_extension": ".py",
   "mimetype": "text/x-python",
   "name": "python",
   "nbconvert_exporter": "python",
   "pygments_lexer": "ipython3",
   "version": "3.9.6"
  },
  "vscode": {
   "interpreter": {
    "hash": "31f2aee4e71d21fbe5cf8b01ff0e069b9275f58929596ceb00d14d90e3e16cd6"
   }
  }
 },
 "nbformat": 4,
 "nbformat_minor": 5
}
